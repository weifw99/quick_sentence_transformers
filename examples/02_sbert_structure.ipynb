{
 "cells": [
  {
   "cell_type": "markdown",
   "metadata": {
    "collapsed": true,
    "pycharm": {
     "name": "#%% md\n"
    }
   },
   "source": [
    "## structure for sentence-transformer\n",
    "code from sentence-transformer package"
   ]
  },
  {
   "cell_type": "code",
   "execution_count": 2,
   "outputs": [],
   "source": [
    "import importlib\n",
    "import os\n",
    "import json\n",
    "from collections import OrderedDict\n",
    "def import_from_string(dotted_path):\n",
    "    \"\"\"\n",
    "    Import a dotted module path and return the attribute/class designated by the\n",
    "    last name in the path. Raise ImportError if the import failed.\n",
    "    \"\"\"\n",
    "    try:\n",
    "        module_path, class_name = dotted_path.rsplit('.', 1)\n",
    "    except ValueError:\n",
    "        msg = \"%s doesn't look like a module path\" % dotted_path\n",
    "        raise ImportError(msg)\n",
    "\n",
    "    try:\n",
    "        module = importlib.import_module(dotted_path)\n",
    "    except:\n",
    "        module = importlib.import_module(module_path)\n",
    "\n",
    "    try:\n",
    "        return getattr(module, class_name)\n",
    "    except AttributeError:\n",
    "        msg = 'Module \"%s\" does not define a \"%s\" attribute/class' % (module_path, class_name)\n",
    "        raise ImportError(msg)"
   ],
   "metadata": {
    "collapsed": false,
    "pycharm": {
     "name": "#%%\n"
    }
   }
  },
  {
   "cell_type": "code",
   "execution_count": 7,
   "outputs": [],
   "source": [
    "model_path = \"../models/paraphrase-multilingual-MiniLM-L12-v2\""
   ],
   "metadata": {
    "collapsed": false,
    "pycharm": {
     "name": "#%%\n"
    }
   }
  },
  {
   "cell_type": "code",
   "execution_count": 8,
   "outputs": [],
   "source": [
    "modules_json_path = os.path.join(model_path, 'modules.json')\n",
    "with open(modules_json_path) as fIn:\n",
    "    modules_config = json.load(fIn)\n",
    "\n",
    "modules = OrderedDict()\n",
    "for module_config in modules_config:\n",
    "    module_class = import_from_string(module_config['type'])\n",
    "    module = module_class.load(os.path.join(model_path, module_config['path']))\n",
    "    modules[module_config['name']] = module"
   ],
   "metadata": {
    "collapsed": false,
    "pycharm": {
     "name": "#%%\n"
    }
   }
  },
  {
   "cell_type": "code",
   "execution_count": 9,
   "outputs": [
    {
     "data": {
      "text/plain": "OrderedDict([('0',\n              Transformer({'max_seq_length': 128, 'do_lower_case': False}) with Transformer model: BertModel ),\n             ('1',\n              Pooling({'word_embedding_dimension': 384, 'pooling_mode_cls_token': False, 'pooling_mode_mean_tokens': True, 'pooling_mode_max_tokens': False, 'pooling_mode_mean_sqrt_len_tokens': False}))])"
     },
     "execution_count": 9,
     "metadata": {},
     "output_type": "execute_result"
    }
   ],
   "source": [
    "modules"
   ],
   "metadata": {
    "collapsed": false,
    "pycharm": {
     "name": "#%%\n"
    }
   }
  },
  {
   "cell_type": "code",
   "execution_count": null,
   "outputs": [],
   "source": [],
   "metadata": {
    "collapsed": false,
    "pycharm": {
     "name": "#%%\n"
    }
   }
  }
 ],
 "metadata": {
  "kernelspec": {
   "display_name": "Python 3",
   "language": "python",
   "name": "python3"
  },
  "language_info": {
   "codemirror_mode": {
    "name": "ipython",
    "version": 2
   },
   "file_extension": ".py",
   "mimetype": "text/x-python",
   "name": "python",
   "nbconvert_exporter": "python",
   "pygments_lexer": "ipython2",
   "version": "2.7.6"
  }
 },
 "nbformat": 4,
 "nbformat_minor": 0
}