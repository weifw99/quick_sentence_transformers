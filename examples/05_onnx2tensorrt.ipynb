{
 "cells": [
  {
   "cell_type": "code",
   "execution_count": null,
   "metadata": {
    "collapsed": true
   },
   "outputs": [],
   "source": [
    "import sys\n",
    "\n",
    "import os\n",
    "import argparse\n",
    "import tensorrt as trt\n",
    "\n",
    "EXPLICIT_BATCH = 1 << (int)(trt.NetworkDefinitionCreationFlag.EXPLICIT_BATCH)\n",
    "\n",
    "onnx_file_path = \"/home/yuzn/文档/deploy0222/quick_sentence_transformers/onnx_models/Multilingual_MiniLM_L12.onnx\"\n",
    "engine_file_path = \"/home/yuzn/文档/deploy0222/quick_sentence_transformers/onnx_models/test_v1.plan\"\n",
    "print('get start')\n",
    "TRT_LOGGER = trt.Logger()\n",
    "with trt.Builder(TRT_LOGGER) as builder, builder.create_network(EXPLICIT_BATCH) as network, trt.OnnxParser(network, TRT_LOGGER) as parser:\n",
    "    config = builder.create_builder_config()\n",
    "    #builder.max_workspace_size =( 1 << 30 ) * 2\n",
    "    config.max_workspace_size =( 1 << 20 ) * 3 * 1024 # 3GB，可以根据需求改的更大\n",
    "    builder.max_batch_size = 128\n",
    "    config.set_flag(trt.BuilderFlag.FP16)\n",
    "    #builder.fp16_mode = True\n",
    "    # Parse model file\n",
    "if not os.path.exists(onnx_file_path):\n",
    "    print('ONNX file {} not found, please run yolov3_to_onnx.py first to generate it.'.format(onnx_file_path))\n",
    "    exit(0)\n",
    "print('Loading ONNX file from path {}...'.format(onnx_file_path))\n",
    "with open(onnx_file_path, 'rb') as model:\n",
    "    print('Beginning ONNX file parsing')\n",
    "    if not parser.parse(model.read()):\n",
    "        print ('ERROR: Failed to parse the ONNX file.')\n",
    "        for error in range(parser.num_errors):\n",
    "            print (parser.get_error(error))\n",
    "print(f\"raw shape of {network.get_input(0).name} is: \", network.get_input(0).shape)\n",
    "profile = builder.create_optimization_profile()\n",
    "for temp_name in ['input_ids', 'attention_mask','token_type_ids']:\n",
    "    profile.set_shape(\n",
    "        input=temp_name,\n",
    "        min=(1,1),\n",
    "        opt=(1,64),\n",
    "        max=(64,128),\n",
    "    )\n",
    "config.add_optimization_profile(profile)\n",
    "print('Completed parsing of ONNX file')\n",
    "print('Building an engine from file {}; this may take a while...'.format(onnx_file_path))\n",
    "engine = builder.build_engine(network,config)\n",
    "print(\"Completed creating Engine\")\n",
    "with open(engine_file_path, \"wb\") as f:\n",
    "    f.write(engine.serialize())"
   ]
  }
 ],
 "metadata": {
  "kernelspec": {
   "display_name": "Python 3",
   "language": "python",
   "name": "python3"
  },
  "language_info": {
   "codemirror_mode": {
    "name": "ipython",
    "version": 2
   },
   "file_extension": ".py",
   "mimetype": "text/x-python",
   "name": "python",
   "nbconvert_exporter": "python",
   "pygments_lexer": "ipython2",
   "version": "2.7.6"
  }
 },
 "nbformat": 4,
 "nbformat_minor": 0
}