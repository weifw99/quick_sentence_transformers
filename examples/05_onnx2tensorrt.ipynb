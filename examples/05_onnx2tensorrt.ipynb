{
 "cells": [
  {
   "cell_type": "code",
   "execution_count": 1,
   "metadata": {
    "collapsed": true
   },
   "outputs": [
    {
     "name": "stdout",
     "output_type": "stream",
     "text": [
      "get start\n",
      "Loading ONNX file from path ../onnx_models/Multilingual_MiniLM_L12.onnx...\n",
      "Beginning ONNX file parsing\n",
      "[02/25/2022-07:41:56] [TRT] [W] onnx2trt_utils.cpp:366: Your ONNX model has been generated with INT64 weights, while TensorRT does not natively support INT64. Attempting to cast down to INT32.\n",
      "[02/25/2022-07:42:00] [TRT] [W] Output type must be INT32 for shape outputs\n",
      "[02/25/2022-07:42:00] [TRT] [W] Output type must be INT32 for shape outputs\n",
      "[02/25/2022-07:42:00] [TRT] [W] Output type must be INT32 for shape outputs\n",
      "[02/25/2022-07:42:00] [TRT] [W] Output type must be INT32 for shape outputs\n",
      "raw shape of input_ids is:  (-1, -1)\n",
      "Completed parsing of ONNX file\n",
      "Building an engine from file ../onnx_models/Multilingual_MiniLM_L12.onnx; this may take a while...\n",
      "[02/25/2022-07:42:00] [TRT] [W] Half2 support requested on hardware without native FP16 support, performance will be negatively affected.\n"
     ]
    },
    {
     "name": "stderr",
     "output_type": "stream",
     "text": [
      "/tmp/ipykernel_107492/1013447095.py:49: DeprecationWarning: Use build_serialized_network instead.\n",
      "  engine = builder.build_engine(network,config)\n"
     ]
    },
    {
     "name": "stdout",
     "output_type": "stream",
     "text": [
      "[02/25/2022-07:42:01] [TRT] [W] TensorRT was linked against cuBLAS/cuBLAS LT 11.6.5 but loaded cuBLAS/cuBLAS LT 11.6.1\n",
      "[02/25/2022-07:42:01] [TRT] [W] Myelin graph with multiple dynamic values may have poor performance if they differ. Dynamic values are: \n",
      "[02/25/2022-07:42:01] [TRT] [W]  (# 1 (SHAPE input_ids))\n",
      "[02/25/2022-07:42:01] [TRT] [W]  (# 0 (SHAPE attention_mask))\n",
      "[02/25/2022-07:42:21] [TRT] [W] Myelin graph with multiple dynamic values may have poor performance if they differ. Dynamic values are: \n",
      "[02/25/2022-07:42:21] [TRT] [W]  (# 1 (SHAPE input_ids))\n",
      "[02/25/2022-07:42:21] [TRT] [W]  (# 0 (SHAPE attention_mask))\n",
      "[02/25/2022-07:42:25] [TRT] [W] TensorRT was linked against cuBLAS/cuBLAS LT 11.6.5 but loaded cuBLAS/cuBLAS LT 11.6.1\n",
      "Completed creating Engine\n"
     ]
    }
   ],
   "source": [
    "import sys\n",
    "\n",
    "import os\n",
    "import argparse\n",
    "import tensorrt as trt\n",
    "\n",
    "EXPLICIT_BATCH = 1 << (int)(trt.NetworkDefinitionCreationFlag.EXPLICIT_BATCH)\n",
    "\n",
    "\n",
    "output_dir = os.path.join(\"..\", \"onnx_models\")\n",
    "\n",
    "\n",
    "\n",
    "\n",
    "onnx_file_path = os.path.join(output_dir, \"Multilingual_MiniLM_L12.onnx\")\n",
    "engine_file_path = os.path.join(output_dir, \"test_v1.plan\")\n",
    "print('get start')\n",
    "TRT_LOGGER = trt.Logger()\n",
    "with trt.Builder(TRT_LOGGER) as builder, builder.create_network(EXPLICIT_BATCH) as network, trt.OnnxParser(network, TRT_LOGGER) as parser:\n",
    "    config = builder.create_builder_config()\n",
    "    #builder.max_workspace_size =( 1 << 30 ) * 2\n",
    "    config.max_workspace_size =( 1 << 20 ) * 3 * 1024 # 3GB，可以根据需求改的更大\n",
    "    builder.max_batch_size = 128\n",
    "    config.set_flag(trt.BuilderFlag.FP16)\n",
    "    #builder.fp16_mode = True\n",
    "    # Parse model file\n",
    "if not os.path.exists(onnx_file_path):\n",
    "    print('ONNX file {} not found, please run yolov3_to_onnx.py first to generate it.'.format(onnx_file_path))\n",
    "    exit(0)\n",
    "print('Loading ONNX file from path {}...'.format(onnx_file_path))\n",
    "with open(onnx_file_path, 'rb') as model:\n",
    "    print('Beginning ONNX file parsing')\n",
    "    if not parser.parse(model.read()):\n",
    "        print ('ERROR: Failed to parse the ONNX file.')\n",
    "        for error in range(parser.num_errors):\n",
    "            print (parser.get_error(error))\n",
    "print(f\"raw shape of {network.get_input(0).name} is: \", network.get_input(0).shape)\n",
    "profile = builder.create_optimization_profile()\n",
    "for temp_name in ['input_ids', 'attention_mask','token_type_ids']:\n",
    "    profile.set_shape(\n",
    "        input=temp_name,\n",
    "        min=(1,1),\n",
    "        opt=(1,64),\n",
    "        max=(64,128),\n",
    "    )\n",
    "config.add_optimization_profile(profile)\n",
    "print('Completed parsing of ONNX file')\n",
    "print('Building an engine from file {}; this may take a while...'.format(onnx_file_path))\n",
    "engine = builder.build_engine(network,config)\n",
    "print(\"Completed creating Engine\")\n",
    "with open(engine_file_path, \"wb\") as f:\n",
    "    f.write(engine.serialize())"
   ]
  },
  {
   "cell_type": "code",
   "execution_count": 2,
   "metadata": {
    "collapsed": false,
    "pycharm": {
     "name": "#%%\n"
    }
   },
   "outputs": [
    {
     "name": "stdout",
     "output_type": "stream",
     "text": [
      "[02/25/2022-07:42:27] [TRT] [I] The logger passed into createInferRuntime differs from one already provided for an existing builder, runtime, or refitter. Uses of the global logger, returned by nvinfer1::getLogger(), will return the existing value.\n",
      "\n",
      "[02/25/2022-07:42:27] [TRT] [I] [MemUsageChange] Init CUDA: CPU +0, GPU +0, now: CPU 1574, GPU 1969 (MiB)\n",
      "[02/25/2022-07:42:28] [TRT] [I] Loaded engine size: 901 MiB\n",
      "[02/25/2022-07:42:28] [TRT] [W] TensorRT was linked against cuBLAS/cuBLAS LT 11.6.5 but loaded cuBLAS/cuBLAS LT 11.6.1\n",
      "[02/25/2022-07:42:28] [TRT] [I] [MemUsageChange] Init cuBLAS/cuBLASLt: CPU +0, GPU +10, now: CPU 2928, GPU 2429 (MiB)\n",
      "[02/25/2022-07:42:28] [TRT] [I] [MemUsageChange] Init cuDNN: CPU +0, GPU +8, now: CPU 2928, GPU 2437 (MiB)\n",
      "[02/25/2022-07:42:28] [TRT] [I] [MemUsageChange] TensorRT-managed allocation in engine deserialization: CPU +0, GPU +448, now: CPU 0, GPU 960 (MiB)\n",
      "Engine Info:\n",
      "0 type:    input\n",
      "  binding: input_ids \n",
      "  data:    int32\n",
      "  shape:   [128, -1, -1] => 1 \n",
      "\n",
      "1 type:    input\n",
      "  binding: attention_mask \n",
      "  data:    int32\n",
      "  shape:   [128, -1, -1] => 1 \n",
      "\n",
      "2 type:    input\n",
      "  binding: token_type_ids \n",
      "  data:    int32\n",
      "  shape:   [128, -1, -1] => 1 \n",
      "\n",
      "3 type:    output\n",
      "  binding: start \n",
      "  data:    float32\n",
      "  shape:   [128, -1, -1, 384] => 384 \n",
      "\n",
      "4 type:    output\n",
      "  binding: end \n",
      "  data:    float32\n",
      "  shape:   [128, -1, 384] => 384 \n",
      "\n"
     ]
    }
   ],
   "source": [
    "import tensorrt as trt\n",
    "import sys\n",
    "import numpy as np\n",
    "trt_logger = trt.Logger(trt.Logger.INFO)\n",
    "runtime = trt.Runtime(trt_logger)\n",
    "with open(engine_file_path, \"rb\") as f:\n",
    "    engine = runtime.deserialize_cuda_engine(f.read())\n",
    "print(\"Engine Info:\")\n",
    "for i, binding in enumerate(engine):\n",
    "    shape = [engine.max_batch_size, *engine.get_binding_shape(binding)]\n",
    "    dtype = trt.nptype(engine.get_binding_dtype(binding))\n",
    "    volume = abs(trt.volume(engine.get_binding_shape(binding)))\n",
    "    if engine.binding_is_input(binding):\n",
    "        desc = \"input\"\n",
    "    else:\n",
    "        desc = \"output\"\n",
    "    print(f\"{i} type:    {desc}\\n  binding: {binding} \\n  data:    {np.dtype(dtype).name}\\n  shape:   {shape} => {volume} \\n\")\n"
   ]
  },
  {
   "cell_type": "code",
   "execution_count": null,
   "metadata": {},
   "outputs": [],
   "source": []
  }
 ],
 "metadata": {
  "kernelspec": {
   "display_name": "Python 3",
   "language": "python",
   "name": "python3"
  },
  "language_info": {
   "codemirror_mode": {
    "name": "ipython",
    "version": 3
   },
   "file_extension": ".py",
   "mimetype": "text/x-python",
   "name": "python",
   "nbconvert_exporter": "python",
   "pygments_lexer": "ipython3",
   "version": "3.9.7"
  }
 },
 "nbformat": 4,
 "nbformat_minor": 0
}
