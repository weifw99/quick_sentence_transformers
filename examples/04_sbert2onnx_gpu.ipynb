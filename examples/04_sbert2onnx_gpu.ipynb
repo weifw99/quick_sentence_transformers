{
 "cells": [
  {
   "cell_type": "code",
   "execution_count": null,
   "metadata": {},
   "outputs": [],
   "source": []
  }
 ],
 "metadata": {
  "interpreter": {
   "hash": "bdbb7989f40b9f457e507bcd5a50987663e2e8c6eeb0c3d4331f0628f0ad53bb"
  },
  "kernelspec": {
   "display_name": "Python 3.9.7 ('mynet')",
   "language": "python",
   "name": "python3"
  },
  "language_info": {
   "name": "python",
   "version": "3.9.7"
  },
  "orig_nbformat": 4
 },
 "nbformat": 4,
 "nbformat_minor": 2
}
